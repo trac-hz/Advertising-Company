{
 "cells": [
  {
   "cell_type": "code",
   "execution_count": null,
   "id": "c57194c1-442d-475e-9346-786c5a0eb040",
   "metadata": {},
   "outputs": [],
   "source": [
    "## Run this cell in AWS/EMR Only\n",
    "import findspark\n",
    "findspark.init()\n",
    "from pyspark.sql import SparkSession\n",
    "spark = SparkSession.builder.appName(\"reddit\").getOrCreate()"
   ]
  },
  {
   "cell_type": "code",
   "execution_count": null,
   "id": "2fc8fe71-97da-4140-a5cd-db5576de02aa",
   "metadata": {},
   "outputs": [],
   "source": [
    "# AWS/EMR\n",
    "spark"
   ]
  },
  {
   "cell_type": "code",
   "execution_count": 4,
   "id": "7977ea4e-0edc-454e-a7ca-a817521cdc93",
   "metadata": {},
   "outputs": [],
   "source": [
    "##read in search_click\n",
    "search_click=spark.read.format(\"csv\")\\\n",
    ".option(\"header\",\"true\")\\\n",
    ".option(\"inferSchema\",\"true\")\\\n",
    ".option(\"delimiter\",\"\\t\")\\\n",
    ".load(\"s3://bigdatateaching/project-data/search_click.txt\")"
   ]
  },
  {
   "cell_type": "code",
   "execution_count": 5,
   "id": "4f78c208-cad9-491b-aac7-9215ede8a452",
   "metadata": {},
   "outputs": [],
   "source": [
    "##read in ad_info\n",
    "ad_info=spark.read.format(\"csv\")\\\n",
    ".option(\"header\",\"true\")\\\n",
    ".option(\"inferSchema\",\"true\")\\\n",
    ".option(\"delimiter\",\"\\t\")\\\n",
    ".load(\"s3://bigdatateaching/project-data/ad_info.txt\")"
   ]
  },
  {
   "cell_type": "code",
   "execution_count": 6,
   "id": "9741a518-dc84-4f2c-bae8-b7eeec8dd351",
   "metadata": {},
   "outputs": [],
   "source": [
    "##read in category\n",
    "category=spark.read.format(\"csv\")\\\n",
    ".option(\"header\",\"true\")\\\n",
    ".option(\"inferSchema\",\"true\")\\\n",
    ".option(\"delimiter\",\"\\t\")\\\n",
    ".load(\"s3://bigdatateaching/project-data/category.txt\")"
   ]
  },
  {
   "cell_type": "code",
   "execution_count": 7,
   "id": "32fd217d-583b-479c-95cc-694b69cf6cb1",
   "metadata": {},
   "outputs": [],
   "source": [
    "##read in combined_stream\n",
    "combined_stream=spark.read.format(\"csv\")\\\n",
    ".option(\"header\",\"true\")\\\n",
    ".option(\"inferSchema\",\"true\")\\\n",
    ".option(\"delimiter\",\"\\t\")\\\n",
    ".load(\"s3://bigdatateaching/project-data/combined_stream.txt\")"
   ]
  },
  {
   "cell_type": "code",
   "execution_count": 12,
   "id": "daf5fd15-0e6a-400d-8bec-6969831e4509",
   "metadata": {},
   "outputs": [],
   "source": [
    "##read in location\n",
    "location=spark.read.format(\"csv\")\\\n",
    ".option(\"header\",\"true\")\\\n",
    ".option(\"inferSchema\",\"true\")\\\n",
    ".option(\"delimiter\",\"\\t\")\\\n",
    ".load(\"s3://bigdatateaching/project-data/location.txt\")"
   ]
  },
  {
   "cell_type": "code",
   "execution_count": 8,
   "id": "042c68a2-7ee6-427f-91e3-80522990e21a",
   "metadata": {},
   "outputs": [],
   "source": [
    "##read in search_info\n",
    "search_info=spark.read.format(\"csv\")\\\n",
    ".option(\"header\",\"true\")\\\n",
    ".option(\"inferSchema\",\"true\")\\\n",
    ".option(\"delimiter\",\"\\t\")\\\n",
    ".load(\"s3://bigdatateaching/project-data/search_info.txt\")"
   ]
  },
  {
   "cell_type": "code",
   "execution_count": 9,
   "id": "b24c2093-76f8-4bed-854d-c03e77c48446",
   "metadata": {},
   "outputs": [],
   "source": [
    "##read in user_info\n",
    "user_info=spark.read.format(\"csv\")\\\n",
    ".option(\"header\",\"true\")\\\n",
    ".option(\"inferSchema\",\"true\")\\\n",
    ".option(\"delimiter\",\"\\t\")\\\n",
    ".load(\"s3://bigdatateaching/project-data/user_info.txt\")"
   ]
  },
  {
   "cell_type": "code",
   "execution_count": 10,
   "id": "afe6f474-97e9-46d1-acd6-24ed8734bc45",
   "metadata": {},
   "outputs": [],
   "source": [
    "from pyspark.ml.feature import VectorAssembler\n",
    "from pyspark.ml.regression import LinearRegression\n",
    "from pyspark.ml import Pipeline\n",
    "from pyspark.ml.feature import OneHotEncoder,StringIndexer\n",
    "from pyspark.ml.evaluation import RegressionEvaluator\n",
    "from pyspark.ml import PipelineModel\n",
    "from pyspark.ml.regression import DecisionTreeRegressor\n",
    "import pandas as pd\n",
    "from pyspark.ml.regression import RandomForestRegressor\n",
    "import matplotlib.pyplot as plt"
   ]
  },
  {
   "cell_type": "code",
   "execution_count": 14,
   "id": "dfb7beaf-cfc1-4f81-92cd-87eaf529099e",
   "metadata": {},
   "outputs": [],
   "source": [
    "#create tempview for data processing\n",
    "\n",
    "#ad_info.createTempView('ad_info')\n",
    "#category.createTempView('category')\n",
    "#combined_stream.createTempView('combined_stream')\n",
    "location.createTempView('location')\n",
    "search_click.createTempView('search_click')\n",
    "search_info.createTempView('search_info')\n",
    "user_info.createTempView('user_info')"
   ]
  },
  {
   "cell_type": "code",
   "execution_count": 15,
   "id": "4c9843d0-407f-4a61-8777-90f5b012a84f",
   "metadata": {},
   "outputs": [],
   "source": [
    "#extract the data and save in S3 bucket\n",
    "sql='select a.* , b.HistCTR, b.IsClick, b.ObjectType, c.IsUserLoggedOn, c.SearchQuery, c.SearchDate, d.userdeviceid from ad_info a join search_click b join search_info c join user_info d where a.IsContext = 1 and a.adid = b.adid and b.SearchID = c.SearchID and c.userid = d.userid'\n",
    "df = spark.sql(sql)\n",
    "df.write.parquet('s3://anly502-spring2021-trac/1')"
   ]
  },
  {
   "cell_type": "code",
   "execution_count": 9,
   "id": "60fca29c-e8d8-44ca-8dbe-70fecaf3a082",
   "metadata": {},
   "outputs": [
    {
     "name": "stdout",
     "output_type": "stream",
     "text": [
      "+--------+--------+--------+----------+--------+-------+\n",
      "|SearchID|    AdID|Position|ObjectType| HistCTR|IsClick|\n",
      "+--------+--------+--------+----------+--------+-------+\n",
      "|       2|11441863|       1|         3|0.001804|      0|\n",
      "|       2|22968355|       7|         3|0.004723|      0|\n",
      "|       3|  212187|       7|         3|0.029701|      0|\n",
      "|       3|34084553|       1|         3|  0.0043|      0|\n",
      "|       3|36256251|       2|         2|    null|   null|\n",
      "|       4| 2073399|       6|         1|    null|   null|\n",
      "|       4| 6046052|       7|         1|    null|   null|\n",
      "|       4|17544913|       8|         1|    null|   null|\n",
      "|       4|20653823|       1|         3|0.003049|      0|\n",
      "|       4|24129570|       2|         2|    null|   null|\n",
      "+--------+--------+--------+----------+--------+-------+\n",
      "only showing top 10 rows\n",
      "\n"
     ]
    }
   ],
   "source": [
    "search_click.show(10)"
   ]
  },
  {
   "cell_type": "code",
   "execution_count": 7,
   "id": "73d8b52b-2335-4740-83ce-d613cc1eacca",
   "metadata": {},
   "outputs": [
    {
     "name": "stdout",
     "output_type": "stream",
     "text": [
      "+----+----------+----------+--------------------+---------+--------------------+---------+\n",
      "|AdID|LocationID|CategoryID|              Params|    Price|               Title|IsContext|\n",
      "+----+----------+----------+--------------------+---------+--------------------+---------+\n",
      "|   1|       343|        43|{1283:'С пробегом...| 160000.0| Toyota Estima, 1993|        0|\n",
      "|   2|       992|        34|{817:'Кузов', 5:'...|    750.0|Передние брызгови...|        0|\n",
      "|   3|      3771|        53|{181:'Промышленное'}|  18000.0|            Дровокол|        0|\n",
      "|   4|      4294|        57|{130:'Приборы и а...|   1500.0|Продам ходули скл...|        0|\n",
      "|   5|      1344|        34|{817:'Автосвет', ...|    800.0|Поворотник R - Ca...|        0|\n",
      "|   6|      3953|        34|{817:'Кузов', 5:'...|      0.0|ВАЗ дверь 2106 пе...|        0|\n",
      "|   7|      1330|        26|{132:'Видео, DVD ...|     30.0|               Видео|        0|\n",
      "|   8|      3022|        22|{83:'Свадебные пл...|   7000.0| Дизайнерское платье|        0|\n",
      "|   9|      2840|        47|     {127:'Игрушки'}|   2460.0|Светодиодный конс...|        0|\n",
      "|  10|      2277|        54|{549:'3', 201:'Пр...|7000000.0|3-к квартира, 92 ...|        0|\n",
      "+----+----------+----------+--------------------+---------+--------------------+---------+\n",
      "only showing top 10 rows\n",
      "\n"
     ]
    }
   ],
   "source": [
    "ad_info.show(10)"
   ]
  },
  {
   "cell_type": "code",
   "execution_count": 16,
   "id": "7879924d-19ec-4b37-a89d-a6d54035f8d8",
   "metadata": {},
   "outputs": [
    {
     "name": "stdout",
     "output_type": "stream",
     "text": [
      "+--------+----------+----------+--------------------+------+--------------------+---------+--------+-------+----------+--------------+-----------+-------------------+------------+\n",
      "|    AdID|LocationID|CategoryID|              Params| Price|               Title|IsContext| HistCTR|IsClick|ObjectType|IsUserLoggedOn|SearchQuery|         SearchDate|userdeviceid|\n",
      "+--------+----------+----------+--------------------+------+--------------------+---------+--------+-------+----------+--------------+-----------+-------------------+------------+\n",
      "|16243019|      null|        47|{127:'Велосипеды ...|4290.0|Велосипед для мал...|        1|0.010428|      0|         3|             0|       null|2015-04-28 07:54:01|         770|\n",
      "|13096230|      null|        47|{127:'Постельные ...|1890.0|Комплект на выпис...|        1|0.011119|      0|         3|             0|       null|2015-04-28 07:37:53|         770|\n",
      "|22822202|      null|        47|{127:'Постельные ...|2099.0|             Конверт|        1|0.003029|      0|         3|             0|       null|2015-04-28 07:37:53|         770|\n",
      "|22096247|      null|        47|{127:'Велосипеды ...|4690.0|Велосипед для мал...|        1|0.014146|      0|         3|             0|       null|2015-04-28 07:50:28|         770|\n",
      "| 9222812|      null|        47|{127:'Постельные ...|3090.0|Комплект на выпис...|        1|0.009738|      0|         3|             0|       null|2015-05-09 14:08:49|         770|\n",
      "+--------+----------+----------+--------------------+------+--------------------+---------+--------+-------+----------+--------------+-----------+-------------------+------------+\n",
      "only showing top 5 rows\n",
      "\n"
     ]
    }
   ],
   "source": [
    "## read in the data\n",
    "df = spark.read.parquet('s3://anly502-spring2021-trac/1')\n",
    "df.show(5)"
   ]
  },
  {
   "cell_type": "code",
   "execution_count": 17,
   "id": "a9552b71-af10-49dd-9c03-64c1658f166c",
   "metadata": {},
   "outputs": [
    {
     "name": "stdout",
     "output_type": "stream",
     "text": [
      "root\n",
      " |-- AdID: integer (nullable = true)\n",
      " |-- LocationID: integer (nullable = true)\n",
      " |-- CategoryID: integer (nullable = true)\n",
      " |-- Params: string (nullable = true)\n",
      " |-- Price: double (nullable = true)\n",
      " |-- Title: string (nullable = true)\n",
      " |-- IsContext: integer (nullable = true)\n",
      " |-- HistCTR: double (nullable = true)\n",
      " |-- IsClick: integer (nullable = true)\n",
      " |-- ObjectType: integer (nullable = true)\n",
      " |-- IsUserLoggedOn: integer (nullable = true)\n",
      " |-- SearchQuery: string (nullable = true)\n",
      " |-- SearchDate: timestamp (nullable = true)\n",
      " |-- userdeviceid: integer (nullable = true)\n",
      "\n"
     ]
    }
   ],
   "source": [
    "## print the schema of the data and find out the type of all data\n",
    "df.printSchema()\n",
    "df.createTempView('df')"
   ]
  },
  {
   "cell_type": "code",
   "execution_count": 18,
   "id": "6736d169-ca1b-4979-a505-42d08c5a0059",
   "metadata": {},
   "outputs": [],
   "source": [
    "sql = 'select * from df limit 10000 '\n",
    "fig = spark.sql(sql)"
   ]
  },
  {
   "cell_type": "code",
   "execution_count": 19,
   "id": "1c5b7dfe-ad30-40a4-83db-bfdd6616fbc8",
   "metadata": {},
   "outputs": [
    {
     "name": "stderr",
     "output_type": "stream",
     "text": [
      "/usr/lib/spark/python/pyspark/sql/dataframe.py:2103: UserWarning: toPandas attempted Arrow optimization because 'spark.sql.execution.arrow.enabled' is set to true; however, failed by the reason below:\n",
      "  PyArrow >= 0.8.0 must be installed; however, it was not found.\n",
      "Attempting non-optimization as 'spark.sql.execution.arrow.fallback.enabled' is set to true.\n",
      "  warnings.warn(msg)\n"
     ]
    },
    {
     "data": {
      "text/html": [
       "<div>\n",
       "<style scoped>\n",
       "    .dataframe tbody tr th:only-of-type {\n",
       "        vertical-align: middle;\n",
       "    }\n",
       "\n",
       "    .dataframe tbody tr th {\n",
       "        vertical-align: top;\n",
       "    }\n",
       "\n",
       "    .dataframe thead th {\n",
       "        text-align: right;\n",
       "    }\n",
       "</style>\n",
       "<table border=\"1\" class=\"dataframe\">\n",
       "  <thead>\n",
       "    <tr style=\"text-align: right;\">\n",
       "      <th></th>\n",
       "      <th>AdID</th>\n",
       "      <th>LocationID</th>\n",
       "      <th>CategoryID</th>\n",
       "      <th>Params</th>\n",
       "      <th>Price</th>\n",
       "      <th>Title</th>\n",
       "      <th>IsContext</th>\n",
       "      <th>HistCTR</th>\n",
       "      <th>IsClick</th>\n",
       "      <th>ObjectType</th>\n",
       "      <th>IsUserLoggedOn</th>\n",
       "      <th>SearchQuery</th>\n",
       "      <th>SearchDate</th>\n",
       "      <th>userdeviceid</th>\n",
       "    </tr>\n",
       "  </thead>\n",
       "  <tbody>\n",
       "    <tr>\n",
       "      <th>0</th>\n",
       "      <td>16243019</td>\n",
       "      <td>None</td>\n",
       "      <td>47</td>\n",
       "      <td>{127:'Велосипеды и самокаты'}</td>\n",
       "      <td>4290.0</td>\n",
       "      <td>Велосипед для малыша Capella 208C1 Blue</td>\n",
       "      <td>1</td>\n",
       "      <td>0.010428</td>\n",
       "      <td>0</td>\n",
       "      <td>3</td>\n",
       "      <td>0</td>\n",
       "      <td>None</td>\n",
       "      <td>2015-04-28 07:54:01</td>\n",
       "      <td>770</td>\n",
       "    </tr>\n",
       "    <tr>\n",
       "      <th>1</th>\n",
       "      <td>13096230</td>\n",
       "      <td>None</td>\n",
       "      <td>47</td>\n",
       "      <td>{127:'Постельные принадлежности'}</td>\n",
       "      <td>1890.0</td>\n",
       "      <td>Комплект на выписку Крошкин дом Аистенок 3</td>\n",
       "      <td>1</td>\n",
       "      <td>0.011119</td>\n",
       "      <td>0</td>\n",
       "      <td>3</td>\n",
       "      <td>0</td>\n",
       "      <td>None</td>\n",
       "      <td>2015-04-28 07:37:53</td>\n",
       "      <td>770</td>\n",
       "    </tr>\n",
       "    <tr>\n",
       "      <th>2</th>\n",
       "      <td>22822202</td>\n",
       "      <td>None</td>\n",
       "      <td>47</td>\n",
       "      <td>{127:'Постельные принадлежности'}</td>\n",
       "      <td>2099.0</td>\n",
       "      <td>Конверт</td>\n",
       "      <td>1</td>\n",
       "      <td>0.003029</td>\n",
       "      <td>0</td>\n",
       "      <td>3</td>\n",
       "      <td>0</td>\n",
       "      <td>None</td>\n",
       "      <td>2015-04-28 07:37:53</td>\n",
       "      <td>770</td>\n",
       "    </tr>\n",
       "    <tr>\n",
       "      <th>3</th>\n",
       "      <td>22096247</td>\n",
       "      <td>None</td>\n",
       "      <td>47</td>\n",
       "      <td>{127:'Велосипеды и самокаты'}</td>\n",
       "      <td>4690.0</td>\n",
       "      <td>Велосипед для малыша Stiony Trike A901-1 Violet</td>\n",
       "      <td>1</td>\n",
       "      <td>0.014146</td>\n",
       "      <td>0</td>\n",
       "      <td>3</td>\n",
       "      <td>0</td>\n",
       "      <td>None</td>\n",
       "      <td>2015-04-28 07:50:28</td>\n",
       "      <td>770</td>\n",
       "    </tr>\n",
       "    <tr>\n",
       "      <th>4</th>\n",
       "      <td>9222812</td>\n",
       "      <td>None</td>\n",
       "      <td>47</td>\n",
       "      <td>{127:'Постельные принадлежности'}</td>\n",
       "      <td>3090.0</td>\n",
       "      <td>Комплект на выписку Крошкин дом Бристоль океания</td>\n",
       "      <td>1</td>\n",
       "      <td>0.009738</td>\n",
       "      <td>0</td>\n",
       "      <td>3</td>\n",
       "      <td>0</td>\n",
       "      <td>None</td>\n",
       "      <td>2015-05-09 14:08:49</td>\n",
       "      <td>770</td>\n",
       "    </tr>\n",
       "    <tr>\n",
       "      <th>...</th>\n",
       "      <td>...</td>\n",
       "      <td>...</td>\n",
       "      <td>...</td>\n",
       "      <td>...</td>\n",
       "      <td>...</td>\n",
       "      <td>...</td>\n",
       "      <td>...</td>\n",
       "      <td>...</td>\n",
       "      <td>...</td>\n",
       "      <td>...</td>\n",
       "      <td>...</td>\n",
       "      <td>...</td>\n",
       "      <td>...</td>\n",
       "      <td>...</td>\n",
       "    </tr>\n",
       "    <tr>\n",
       "      <th>9995</th>\n",
       "      <td>28826223</td>\n",
       "      <td>None</td>\n",
       "      <td>34</td>\n",
       "      <td>{5:'Запчасти', 598:'Для автомобилей'}</td>\n",
       "      <td>0.0</td>\n",
       "      <td>Бампер передний для Шевроле Лачетти</td>\n",
       "      <td>1</td>\n",
       "      <td>0.044550</td>\n",
       "      <td>0</td>\n",
       "      <td>3</td>\n",
       "      <td>0</td>\n",
       "      <td>None</td>\n",
       "      <td>2015-04-29 16:39:41</td>\n",
       "      <td>2014</td>\n",
       "    </tr>\n",
       "    <tr>\n",
       "      <th>9996</th>\n",
       "      <td>34201466</td>\n",
       "      <td>None</td>\n",
       "      <td>34</td>\n",
       "      <td>{5:'Запчасти', 598:'Для автомобилей'}</td>\n",
       "      <td>11730.0</td>\n",
       "      <td>Запчасти б/у и новые для toyota landcruiser 20...</td>\n",
       "      <td>1</td>\n",
       "      <td>0.044535</td>\n",
       "      <td>0</td>\n",
       "      <td>3</td>\n",
       "      <td>0</td>\n",
       "      <td>None</td>\n",
       "      <td>2015-04-28 23:33:10</td>\n",
       "      <td>2014</td>\n",
       "    </tr>\n",
       "    <tr>\n",
       "      <th>9997</th>\n",
       "      <td>6572002</td>\n",
       "      <td>None</td>\n",
       "      <td>34</td>\n",
       "      <td>{5:'Запчасти', 598:'Для автомобилей'}</td>\n",
       "      <td>75000.0</td>\n",
       "      <td>Двигатель 2.7T Audi A6 Allroad</td>\n",
       "      <td>1</td>\n",
       "      <td>0.045343</td>\n",
       "      <td>0</td>\n",
       "      <td>3</td>\n",
       "      <td>0</td>\n",
       "      <td>None</td>\n",
       "      <td>2015-04-28 23:33:10</td>\n",
       "      <td>2014</td>\n",
       "    </tr>\n",
       "    <tr>\n",
       "      <th>9998</th>\n",
       "      <td>14610991</td>\n",
       "      <td>None</td>\n",
       "      <td>34</td>\n",
       "      <td>{5:'Запчасти', 598:'Для автомобилей'}</td>\n",
       "      <td>13000.0</td>\n",
       "      <td>Крыло заднее Лифан</td>\n",
       "      <td>1</td>\n",
       "      <td>0.002334</td>\n",
       "      <td>0</td>\n",
       "      <td>3</td>\n",
       "      <td>0</td>\n",
       "      <td>None</td>\n",
       "      <td>2015-04-29 16:11:25</td>\n",
       "      <td>2014</td>\n",
       "    </tr>\n",
       "    <tr>\n",
       "      <th>9999</th>\n",
       "      <td>27598775</td>\n",
       "      <td>None</td>\n",
       "      <td>34</td>\n",
       "      <td>{5:'Запчасти', 598:'Для автомобилей'}</td>\n",
       "      <td>12000.0</td>\n",
       "      <td>Крышка багажника Mitsubishi Lancer 9 седан</td>\n",
       "      <td>1</td>\n",
       "      <td>0.045311</td>\n",
       "      <td>0</td>\n",
       "      <td>3</td>\n",
       "      <td>0</td>\n",
       "      <td>None</td>\n",
       "      <td>2015-04-29 16:11:25</td>\n",
       "      <td>2014</td>\n",
       "    </tr>\n",
       "  </tbody>\n",
       "</table>\n",
       "<p>10000 rows × 14 columns</p>\n",
       "</div>"
      ],
      "text/plain": [
       "          AdID LocationID  CategoryID                                 Params  \\\n",
       "0     16243019       None          47          {127:'Велосипеды и самокаты'}   \n",
       "1     13096230       None          47      {127:'Постельные принадлежности'}   \n",
       "2     22822202       None          47      {127:'Постельные принадлежности'}   \n",
       "3     22096247       None          47          {127:'Велосипеды и самокаты'}   \n",
       "4      9222812       None          47      {127:'Постельные принадлежности'}   \n",
       "...        ...        ...         ...                                    ...   \n",
       "9995  28826223       None          34  {5:'Запчасти', 598:'Для автомобилей'}   \n",
       "9996  34201466       None          34  {5:'Запчасти', 598:'Для автомобилей'}   \n",
       "9997   6572002       None          34  {5:'Запчасти', 598:'Для автомобилей'}   \n",
       "9998  14610991       None          34  {5:'Запчасти', 598:'Для автомобилей'}   \n",
       "9999  27598775       None          34  {5:'Запчасти', 598:'Для автомобилей'}   \n",
       "\n",
       "        Price                                              Title  IsContext  \\\n",
       "0      4290.0            Велосипед для малыша Capella 208C1 Blue          1   \n",
       "1      1890.0         Комплект на выписку Крошкин дом Аистенок 3          1   \n",
       "2      2099.0                                            Конверт          1   \n",
       "3      4690.0    Велосипед для малыша Stiony Trike A901-1 Violet          1   \n",
       "4      3090.0   Комплект на выписку Крошкин дом Бристоль океания          1   \n",
       "...       ...                                                ...        ...   \n",
       "9995      0.0                Бампер передний для Шевроле Лачетти          1   \n",
       "9996  11730.0  Запчасти б/у и новые для toyota landcruiser 20...          1   \n",
       "9997  75000.0                     Двигатель 2.7T Audi A6 Allroad          1   \n",
       "9998  13000.0                                 Крыло заднее Лифан          1   \n",
       "9999  12000.0         Крышка багажника Mitsubishi Lancer 9 седан          1   \n",
       "\n",
       "       HistCTR  IsClick  ObjectType  IsUserLoggedOn SearchQuery  \\\n",
       "0     0.010428        0           3               0        None   \n",
       "1     0.011119        0           3               0        None   \n",
       "2     0.003029        0           3               0        None   \n",
       "3     0.014146        0           3               0        None   \n",
       "4     0.009738        0           3               0        None   \n",
       "...        ...      ...         ...             ...         ...   \n",
       "9995  0.044550        0           3               0        None   \n",
       "9996  0.044535        0           3               0        None   \n",
       "9997  0.045343        0           3               0        None   \n",
       "9998  0.002334        0           3               0        None   \n",
       "9999  0.045311        0           3               0        None   \n",
       "\n",
       "              SearchDate  userdeviceid  \n",
       "0    2015-04-28 07:54:01           770  \n",
       "1    2015-04-28 07:37:53           770  \n",
       "2    2015-04-28 07:37:53           770  \n",
       "3    2015-04-28 07:50:28           770  \n",
       "4    2015-05-09 14:08:49           770  \n",
       "...                  ...           ...  \n",
       "9995 2015-04-29 16:39:41          2014  \n",
       "9996 2015-04-28 23:33:10          2014  \n",
       "9997 2015-04-28 23:33:10          2014  \n",
       "9998 2015-04-29 16:11:25          2014  \n",
       "9999 2015-04-29 16:11:25          2014  \n",
       "\n",
       "[10000 rows x 14 columns]"
      ]
     },
     "execution_count": 19,
     "metadata": {},
     "output_type": "execute_result"
    }
   ],
   "source": [
    "fig.toPandas()"
   ]
  },
  {
   "cell_type": "code",
   "execution_count": 20,
   "id": "b88e4432-bdc5-4f94-bf05-4beb617f33e0",
   "metadata": {},
   "outputs": [
    {
     "data": {
      "text/plain": [
       "pyspark.sql.dataframe.DataFrame"
      ]
     },
     "execution_count": 20,
     "metadata": {},
     "output_type": "execute_result"
    }
   ],
   "source": [
    "type(fig)"
   ]
  },
  {
   "cell_type": "code",
   "execution_count": 22,
   "id": "db34aa40-fc85-4af3-9fcd-56ea647851b0",
   "metadata": {},
   "outputs": [
    {
     "name": "stdout",
     "output_type": "stream",
     "text": [
      "+---------+------------------+\n",
      "|     date|      sum(HistCTR)|\n",
      "+---------+------------------+\n",
      "|2015-04-2| 358534.9326846644|\n",
      "|2015-04-3| 71457.28457800584|\n",
      "|2015-05-0| 713312.0644059456|\n",
      "|2015-05-1| 778062.5726240629|\n",
      "|2015-05-2|35889.677433997975|\n",
      "+---------+------------------+\n",
      "\n"
     ]
    }
   ],
   "source": [
    "## in this part, I want to explore the relationship between the SearchDate and HistCTR\n",
    "sql = 'select left(SearchDate,9) as date, sum(HistCTR) from df where group by left(SearchDate,9) order by left(SearchDate,9) asc '\n",
    "spark.sql(sql).show()\n",
    "fig=spark.sql(sql).collect()"
   ]
  },
  {
   "cell_type": "code",
   "execution_count": 23,
   "id": "5fdc86b8-1291-4c82-844f-2597138ef5c4",
   "metadata": {},
   "outputs": [
    {
     "data": {
      "image/png": "[encoded data removed]",
      "text/plain": [
       "<Figure size 640x480 with 1 Axes>"
      ]
     },
     "metadata": {},
     "output_type": "display_data"
    }
   ],
   "source": [
    "plt.figure()\n",
    "plt.plot([fig[0][0],fig[1][0],fig[2][0],fig[3][0],fig[4][0]],[fig[0][1],fig[1][1],fig[2][1],fig[3][1],fig[4][1]])\n",
    "plt.xlabel('SearchDate')\n",
    "plt.ylabel('HistCTR')\n",
    "plt.show()"
   ]
  },
  {
   "cell_type": "code",
   "execution_count": null,
   "id": "d647c8e3-9e36-48fa-ab50-395bccac75df",
   "metadata": {},
   "outputs": [],
   "source": [
    "## in this part, I want to explore the relationship between the SearchDate and PriceAmount"
   ]
  },
  {
   "cell_type": "code",
   "execution_count": 25,
   "id": "9d4c87ec-2138-4beb-a530-ba9983d1b1b8",
   "metadata": {},
   "outputs": [
    {
     "name": "stdout",
     "output_type": "stream",
     "text": [
      "+---------+------------------+\n",
      "|     date|        sum(Price)|\n",
      "+---------+------------------+\n",
      "|2015-04-2| 4.160505639865E11|\n",
      "|2015-04-3|  1.16405654524E11|\n",
      "|2015-05-0| 1.334244510843E12|\n",
      "|2015-05-1|1.4954137633355E12|\n",
      "|2015-05-2|  5.48694239365E10|\n",
      "+---------+------------------+\n",
      "\n"
     ]
    }
   ],
   "source": [
    "sql = 'select left(SearchDate,9) as date, sum(Price) from df where group by left(SearchDate,9) order by left(SearchDate,9) asc '\n",
    "spark.sql(sql).show()\n",
    "fig = spark.sql(sql).collect()"
   ]
  },
  {
   "cell_type": "code",
   "execution_count": 26,
   "id": "56a789ba-f78a-45aa-a974-5774e45dd58a",
   "metadata": {},
   "outputs": [
    {
     "data": {
      "image/png": "[encoded data removed]",
      "text/plain": [
       "<Figure size 640x480 with 1 Axes>"
      ]
     },
     "metadata": {},
     "output_type": "display_data"
    }
   ],
   "source": [
    "plt.figure()\n",
    "plt.plot([fig[0][0],fig[1][0],fig[2][0],fig[3][0],fig[4][0]],[fig[0][1],fig[\n",
    "1][1],fig[2][1],fig[3][1],fig[4][1]])\n",
    "plt.xlabel('SearchDate')\n",
    "plt.ylabel('PriceAmount')\n",
    "plt.show()"
   ]
  },
  {
   "cell_type": "code",
   "execution_count": null,
   "id": "3938e30d-08d2-4aeb-864b-b555abd142ce",
   "metadata": {},
   "outputs": [],
   "source": [
    "## from these image , we can find out that Price and HistCTR may be related, so we can take regression into account"
   ]
  },
  {
   "cell_type": "code",
   "execution_count": null,
   "id": "3c8c784c-2c31-4087-adc6-419abb974dce",
   "metadata": {},
   "outputs": [],
   "source": [
    "## in the following visualization, we explore the relationship between IsClick and other variables\n",
    "## So, we can prepare for the classification"
   ]
  },
  {
   "cell_type": "code",
   "execution_count": null,
   "id": "f271a410-a64e-4e9a-84f0-4a95c3fefd79",
   "metadata": {},
   "outputs": [],
   "source": [
    "## in this part ,I want to use histogram to visualize the data"
   ]
  },
  {
   "cell_type": "code",
   "execution_count": 27,
   "id": "44a39a41-57f0-4ad9-ae5c-c03aa60d9bf8",
   "metadata": {},
   "outputs": [
    {
     "data": {
      "text/plain": [
       "1145882"
      ]
     },
     "execution_count": 27,
     "metadata": {},
     "output_type": "execute_result"
    }
   ],
   "source": [
    "sql = 'select IsClick from df where IsClick = 1'\n",
    "click_yes = spark.sql(sql).count()\n",
    "click_yes"
   ]
  },
  {
   "cell_type": "code",
   "execution_count": 28,
   "id": "f0d18528-00f1-4994-b8b2-6447f230d0b2",
   "metadata": {},
   "outputs": [
    {
     "data": {
      "text/plain": [
       "188972054"
      ]
     },
     "execution_count": 28,
     "metadata": {},
     "output_type": "execute_result"
    }
   ],
   "source": [
    "sql = 'select IsClick from df where IsClick = 0'\n",
    "click_no = spark.sql(sql).count()\n",
    "click_no"
   ]
  },
  {
   "cell_type": "code",
   "execution_count": 29,
   "id": "313a533d-ee52-4d7e-929f-6da05cf0bcc6",
   "metadata": {},
   "outputs": [
    {
     "data": {
      "image/png": "[encoded data removed]",
      "text/plain": [
       "<Figure size 640x480 with 1 Axes>"
      ]
     },
     "metadata": {},
     "output_type": "display_data"
    }
   ],
   "source": [
    "click_name = ['click_yes','click_no']\n",
    "click_amout = [click_yes , click_no]\n",
    "plt.bar(click_name , click_amout)\n",
    "plt.show()"
   ]
  },
  {
   "cell_type": "code",
   "execution_count": 30,
   "id": "90235152-3e7a-403e-8c5e-82c957d341ee",
   "metadata": {},
   "outputs": [],
   "source": [
    "## in this part , we explore the relationship between userdeviceid and IsClick"
   ]
  },
  {
   "cell_type": "code",
   "execution_count": 34,
   "id": "29804cc7-bff0-4e15-871f-dcc4fdd2228a",
   "metadata": {},
   "outputs": [
    {
     "name": "stdout",
     "output_type": "stream",
     "text": [
      "+------------+------+\n",
      "|userdeviceid|   num|\n",
      "+------------+------+\n",
      "|           1|    20|\n",
      "|           2|     2|\n",
      "|           3|     4|\n",
      "|           5|113341|\n",
      "|           6|    26|\n",
      "|           7|  1038|\n",
      "|           8|   210|\n",
      "|           9|   112|\n",
      "|          10|     6|\n",
      "|          11|   114|\n",
      "|          12|     2|\n",
      "|          13|    10|\n",
      "|          14|   102|\n",
      "|          15|  3383|\n",
      "|          16|     3|\n",
      "|          18|     2|\n",
      "|          19|   144|\n",
      "|          20|  1740|\n",
      "|          21|    18|\n",
      "|          23|     8|\n",
      "+------------+------+\n",
      "only showing top 20 rows\n",
      "\n"
     ]
    }
   ],
   "source": [
    "sql = 'select userdeviceid, count(IsClick) as num from df group by userdeviceid order by userdeviceid '\n",
    "spark.sql(sql).show()\n",
    "fig = spark.sql(sql).collect()"
   ]
  },
  {
   "cell_type": "code",
   "execution_count": 36,
   "id": "242405cc-2538-40bf-b713-84aa4b1363aa",
   "metadata": {},
   "outputs": [
    {
     "data": {
      "image/png": "[encoded data removed]",
      "text/plain": [
       "<Figure size 640x480 with 1 Axes>"
      ]
     },
     "metadata": {},
     "output_type": "display_data"
    },
    {
     "data": {
      "image/png": "[encoded data removed]",
      "text/plain": [
       "<Figure size 640x480 with 1 Axes>"
      ]
     },
     "metadata": {},
     "output_type": "display_data"
    }
   ],
   "source": [
    "plt.figure()\n",
    "plt.plot([fig[0][0],fig[1][0],fig[2][0],fig[3][0],fig[4][0]],[fig[0][1],fig[\n",
    "1][1],fig[2][1],fig[3][1],fig[4][1]])\n",
    "plt.xlabel('userdeviceid')\n",
    "plt.ylabel('Amount')\n",
    "plt.show()"
   ]
  },
  {
   "cell_type": "code",
   "execution_count": null,
   "id": "28bc3a38-7f65-43e6-8b98-8112b5c392f7",
   "metadata": {},
   "outputs": [],
   "source": [
    "## in this part , we explore the relationship between CategoryID and IsClick"
   ]
  },
  {
   "cell_type": "code",
   "execution_count": 37,
   "id": "490bd14a-809f-4882-8f02-e57a4e351b39",
   "metadata": {},
   "outputs": [
    {
     "name": "stdout",
     "output_type": "stream",
     "text": [
      "+----------+--------+\n",
      "|CategoryID|     num|\n",
      "+----------+--------+\n",
      "|      null|   58586|\n",
      "|         2| 1923531|\n",
      "|         3|  377263|\n",
      "|         4| 5654635|\n",
      "|         5| 2464734|\n",
      "|         9| 1589636|\n",
      "|        11| 2942567|\n",
      "|        13| 1531639|\n",
      "|        15|  113086|\n",
      "|        16|  745100|\n",
      "|        18| 2200760|\n",
      "|        22|25209961|\n",
      "|        25| 1730368|\n",
      "|        26| 7514681|\n",
      "|        27| 6534316|\n",
      "|        29| 2117073|\n",
      "|        34|35397246|\n",
      "|        35| 1517416|\n",
      "|        36|  723772|\n",
      "|        37| 1107683|\n",
      "+----------+--------+\n",
      "only showing top 20 rows\n",
      "\n"
     ]
    }
   ],
   "source": [
    "sql = 'select CategoryID, count(IsClick) as num from df group by CategoryID order by CategoryID '\n",
    "spark.sql(sql).show()\n",
    "fig = spark.sql(sql).collect()"
   ]
  },
  {
   "cell_type": "code",
   "execution_count": 38,
   "id": "ec7f30ef-cf3f-4e63-acf9-77dccb330e7e",
   "metadata": {},
   "outputs": [
    {
     "data": {
      "image/png": "[encoded data removed]",
      "text/plain": [
       "<Figure size 640x480 with 1 Axes>"
      ]
     },
     "metadata": {},
     "output_type": "display_data"
    }
   ],
   "source": [
    "plt.figure()\n",
    "plt.plot([fig[0][0],fig[1][0],fig[2][0],fig[3][0],fig[4][0]],[fig[0][1],fig[\n",
    "1][1],fig[2][1],fig[3][1],fig[4][1]])\n",
    "plt.xlabel('CategoryID')\n",
    "plt.ylabel('Amount')\n",
    "plt.show()"
   ]
  },
  {
   "cell_type": "code",
   "execution_count": 39,
   "id": "98db604d-67e3-4baf-9ac4-56f9cb51c553",
   "metadata": {},
   "outputs": [
    {
     "data": {
      "text/plain": [
       "DataFrame[IsClick: int, count: bigint]"
      ]
     },
     "metadata": {},
     "output_type": "display_data"
    }
   ],
   "source": [
    "data = df.groupby(\"IsClick\").count()\n",
    "display(data)"
   ]
  },
  {
   "cell_type": "code",
   "execution_count": 40,
   "id": "d30e599c-2eb9-4a8a-9f71-0d5052f52c95",
   "metadata": {},
   "outputs": [
    {
     "name": "stdout",
     "output_type": "stream",
     "text": [
      "There are 152092046 rows in the training set,\n",
      "and 38025890 in the test set\n"
     ]
    }
   ],
   "source": [
    "## split the data into trainDF and testDF\n",
    "trainDF , testDF = df.randomSplit([0.8,0.2],seed=58)\n",
    "print(f\"\"\"There are {trainDF.count()} rows in the training set,\n",
    "and {testDF.count()} in the test set\"\"\")"
   ]
  },
  {
   "cell_type": "code",
   "execution_count": null,
   "id": "03ce81c2-7f74-45ad-bee9-1ed0dfcd42d1",
   "metadata": {},
   "outputs": [],
   "source": [
    "## In the first part , we use different regression to predict the HistCTR"
   ]
  },
  {
   "cell_type": "code",
   "execution_count": 41,
   "id": "2fa073ed-c935-4179-a3d0-7b74758a6532",
   "metadata": {},
   "outputs": [
    {
     "name": "stdout",
     "output_type": "stream",
     "text": [
      "+-------+---------+--------+\n",
      "|  Price| features| HistCTR|\n",
      "+-------+---------+--------+\n",
      "|69999.0|[69999.0]|0.001307|\n",
      "|69999.0|[69999.0]|0.001307|\n",
      "|69999.0|[69999.0]|0.002183|\n",
      "|69999.0|[69999.0]|0.002183|\n",
      "|69999.0|[69999.0]|0.003112|\n",
      "|69999.0|[69999.0]|0.003112|\n",
      "|69999.0|[69999.0]|0.003425|\n",
      "|69999.0|[69999.0]|0.003425|\n",
      "|69999.0|[69999.0]|0.003431|\n",
      "|69999.0|[69999.0]|0.003498|\n",
      "+-------+---------+--------+\n",
      "only showing top 10 rows\n",
      "\n"
     ]
    }
   ],
   "source": [
    "## firstly, we only use one feature to get the simple regression and predict the HistCTR\n",
    "## So, we can compare it with the complex one\n",
    "from pyspark.ml.feature import VectorAssembler\n",
    "vecAssembler = VectorAssembler(inputCols=[\"Price\"], outputCol=\"features\",handleInvalid = 'skip')\n",
    "vecTrainDF = vecAssembler.transform(trainDF)\n",
    "vecTrainDF.select(\"Price\", \"features\", \"HistCTR\").show(10)"
   ]
  },
  {
   "cell_type": "code",
   "execution_count": 43,
   "id": "e649c159-9ed9-487f-b6d0-9e09c285f70e",
   "metadata": {},
   "outputs": [
    {
     "name": "stdout",
     "output_type": "stream",
     "text": [
      "The formula for the linear regression line is\n",
      "HistCTR = -6.975785538507862e-10*Price + 0.010307\n"
     ]
    }
   ],
   "source": [
    "## as we get the intercept and the coefficients,we can know that the the influence of all variables\n",
    "lr = LinearRegression(featuresCol=\"features\", labelCol=\"HistCTR\")\n",
    "lrModel = lr.fit(vecTrainDF)\n",
    "m = lrModel.coefficients[0]\n",
    "b = round(lrModel.intercept, 6)\n",
    "print(f\"\"\"The formula for the linear regression line is\n",
    "HistCTR = {m}*Price + {b}\"\"\")"
   ]
  },
  {
   "cell_type": "code",
   "execution_count": null,
   "id": "5daf90e2-5144-4b18-ae8f-a61787806b47",
   "metadata": {},
   "outputs": [],
   "source": [
    "display(lrModel, vecTrainDF)"
   ]
  },
  {
   "cell_type": "code",
   "execution_count": null,
   "id": "a67ea081-cc10-4c24-84db-1b67066cdb5c",
   "metadata": {},
   "outputs": [],
   "source": [
    "## then we can use pipeline in our data process\n",
    "pipeline = Pipeline(stages=[vecAssembler, lr])\n",
    "pipelineModel = pipeline.fit(trainDF)\n",
    "predDF = pipelineModel.transform(testDF)\n",
    "predDF.select(\"Price\", \"features\", \"HistCTR\", \"prediction\").show(10)"
   ]
  },
  {
   "cell_type": "code",
   "execution_count": null,
   "id": "7d7319e7-66de-4772-a2de-03417bda89e5",
   "metadata": {},
   "outputs": [],
   "source": [
    "## in this part we can find out the rmse and r2 of this simple regression and then we can compare it with the more complex one\n",
    "from pyspark.ml.evaluation import RegressionEvaluator\n",
    "regressionEvaluator = RegressionEvaluator(\n",
    "predictionCol=\"prediction\",\n",
    "labelCol=\"HistCTR\",metricName=\"rmse\")\n",
    "rmse = regressionEvaluator.evaluate(predDF)\n",
    "print(f\"RMSE is {rmse}\")\n",
    "r2 = regressionEvaluator.setMetricName(\"r2\").evaluate(predDF)\n",
    "print(f\"R2 is {r2}\")"
   ]
  },
  {
   "cell_type": "code",
   "execution_count": null,
   "id": "044a0b31-79e0-44eb-9522-ac1b6d8588b7",
   "metadata": {},
   "outputs": [],
   "source": [
    "## also we can find out the areaUnderROC of this model\n",
    "from pyspark.mllib.evaluation import BinaryClassificationMetrics\n",
    "prediction__labels = predDF.select('prediction','HistCTR').rdd##()\n",
    "metrics = BinaryClassificationMetrics(prediction__labels)\n",
    "metrics.areaUnderROC"
   ]
  },
  {
   "cell_type": "code",
   "execution_count": null,
   "id": "dee5d2cb-793e-4c30-a5ce-76ac1ccf530c",
   "metadata": {},
   "outputs": [],
   "source": [
    "display(lrModel, predDF, \"ROC\")"
   ]
  },
  {
   "cell_type": "code",
   "execution_count": null,
   "id": "5f3dc6c1-74b0-4b61-b2ba-41a66a204687",
   "metadata": {},
   "outputs": [],
   "source": [
    "from pyspark.ml.feature import VectorAssembler\n",
    "vecAssembler = VectorAssembler(inputCols=[\"Price\",'CategoryID','IsUserLogged\n",
    "On','userdeviceid','IsClick','AdID'], outputCol=\"features\",handleInvalid =\n",
    "'skip')\n",
    "vecTrainDF = vecAssembler.transform(trainDF)\n",
    "## as we get the intercept and the coefficients,we can know that the the inf\n",
    "luence of all variables\n",
    "lr = LinearRegression(featuresCol=\"features\", labelCol=\"HistCTR\")\n",
    "lrModel = lr.fit(vecTrainDF)\n",
    "## in this part , we use CategoryID ,AdID , IsUserLoggedOn ,userdeviceid to\n",
    "predict HistCTR\n",
    "rFormula = RFormula(formula=\"HistCTR ~ CategoryID + AdID + IsUserLoggedOn +\n",
    "userdeviceid + Price + IsClick\",\n",
    "featuresCol=\"features\",\n",
    "labelCol=\"HistCTR\",\n",
    "handleInvalid=\"skip\")\n",
    "pipeline = Pipeline(stages = [rFormula, lr])\n",
    "pipelineModel = pipeline.fit(trainDF)\n",
    "predDF = pipelineModel.transform(testDF)\n",
    "## And also we can find out the rmse and r2 of this model and compare it with the previous one\n",
    "from pyspark.ml.evaluation import RegressionEvaluator\n",
    "regressionEvaluator = RegressionEvaluator(\n",
    "predictionCol=\"prediction\",\n",
    "labelCol=\"HistCTR\",\n",
    "metricName=\"rmse\")\n",
    "rmse = regressionEvaluator.evaluate(predDF)\n",
    "r2 = regressionEvaluator.setMetricName(\"r2\").evaluate(predDF)\n",
    "## in this part we can get the areaUnderROC of this model\n",
    "## apparently, this model has a better prediction effect\n",
    "from pyspark.mllib.evaluation import BinaryClassificationMetrics\n",
    "prediction__labels = predDF.select('prediction','HistCTR').rdd##()\n",
    "metrics = BinaryClassificationMetrics(prediction__labels)"
   ]
  },
  {
   "cell_type": "code",
   "execution_count": null,
   "id": "6a499716-a721-4e75-951e-32d492b09e28",
   "metadata": {},
   "outputs": [],
   "source": [
    "a1 = lrModel.coefficients[0]\n",
    "a2 = lrModel.coefficients[1]\n",
    "a3 = lrModel.coefficients[2]\n",
    "a4 = lrModel.coefficients[3]\n",
    "a5 = lrModel.coefficients[4]\n",
    "a6 = lrModel.coefficients[5]\n",
    "#lrModel.coefficients[5]\n",
    "print(f\"RMSE is {rmse}\")\n",
    "print(f\"R2 is {r2}\")\n",
    "print(f\"\"\"The formula for the linear regression line is\n",
    "HistCTR = {a1}*Price + {a2}*CategoryID + {a3}*IsUserLoggedOn + {a4}*userdev\n",
    "iceid + {a5}*IsClick + {a6}*AdID + {a5}\"\"\")"
   ]
  },
  {
   "cell_type": "code",
   "execution_count": null,
   "id": "4f9d579d-c720-45cb-b155-64f1af8e17d2",
   "metadata": {},
   "outputs": [],
   "source": [
    "metrics.areaUnderROC"
   ]
  },
  {
   "cell_type": "code",
   "execution_count": null,
   "id": "1792d9a3-e7cd-474a-b75f-eb3dd9ae2303",
   "metadata": {},
   "outputs": [],
   "source": [
    "## as we can see from this formula, the important variables are IsUserLogged On ,IsClick"
   ]
  },
  {
   "cell_type": "code",
   "execution_count": null,
   "id": "70061626-0bc1-4448-90b5-b7d2f45997da",
   "metadata": {},
   "outputs": [],
   "source": [
    "## In the second part , we use classification algorithms to predict the variable IsClick\n",
    "## In this case , we use two different algorithms:LogisticRegression and RandomForestRegressor"
   ]
  },
  {
   "cell_type": "code",
   "execution_count": null,
   "id": "01e8e655-cad1-4b64-89c7-3fd95880ac96",
   "metadata": {},
   "outputs": [],
   "source": [
    "## At first, we should convert the type of IsClick from int to double for the classification\n",
    "sql = 'select AdID,CategoryID,Price,IsContext,HistCTR,ObjectType,Title,IsUserLoggedOn,userdeviceid , cast(IsClick as double ) from df'\n",
    "df1 = spark.sql(sql)\n",
    "df1.printSchema()"
   ]
  },
  {
   "cell_type": "code",
   "execution_count": null,
   "id": "d244452c-48b1-4a04-b25f-f07311a5ca1e",
   "metadata": {},
   "outputs": [],
   "source": [
    "trainDF , testDF = df1.randomSplit([0.8,0.2],seed=58)"
   ]
  },
  {
   "cell_type": "code",
   "execution_count": null,
   "id": "00bd0ef7-41d1-4e28-a8a5-0f5a79e6ac83",
   "metadata": {},
   "outputs": [],
   "source": [
    "## in this part , we use logisticregression firstly to find out the effect.\n",
    "vecAssembler = VectorAssembler(inputCols=['AdID','CategoryID','Price','IsCon\n",
    "text','HistCTR','ObjectType','IsUserLoggedOn','userdeviceid'],\n",
    "outputCol='features',\n",
    "handleInvalid = 'skip')\n",
    "from pyspark.ml.classification import LogisticRegression\n",
    "lr = LogisticRegression(labelCol = 'IsClick',maxIter=10,regParam=0.01)"
   ]
  },
  {
   "cell_type": "code",
   "execution_count": null,
   "id": "3a41a878-cd35-458e-a226-710b9c904ded",
   "metadata": {},
   "outputs": [],
   "source": [
    "from pyspark.ml import Pipeline\n",
    "pipeline = Pipeline(stages=[vecAssembler,lr])\n",
    "logistic_model = pipeline.fit(trainDF)"
   ]
  },
  {
   "cell_type": "code",
   "execution_count": null,
   "id": "9fe6a7e1-37bf-4395-bc73-f9dcee4f11e9",
   "metadata": {},
   "outputs": [],
   "source": [
    "prediction = logistic_model.transform(testDF)\n",
    "from pyspark.mllib.evaluation import BinaryClassificationMetrics\n",
    "prediction__labels = prediction.select('prediction','IsClick').rdd##()\n",
    "metrics = BinaryClassificationMetrics(prediction__labels)"
   ]
  },
  {
   "cell_type": "code",
   "execution_count": null,
   "id": "6cb247c4-9009-4325-abb0-35ecaa1fff5a",
   "metadata": {},
   "outputs": [],
   "source": [
    "## in this part , we can get the areaUnderROC\n",
    "## As we can see , this algorithm is not good enough , so we should find aother algorithm to get a better result\n",
    "metrics.areaUnderROC"
   ]
  },
  {
   "cell_type": "code",
   "execution_count": null,
   "id": "facc8ade-de10-40aa-8c75-02751520702b",
   "metadata": {},
   "outputs": [],
   "source": [
    "## In the following part , we use another algorithms to predict the variable\n",
    "IsClick\n",
    "## So we can compare the two method to find out the best classification algorithm for our model"
   ]
  },
  {
   "cell_type": "code",
   "execution_count": null,
   "id": "81f5965c-8664-4574-ac59-c5312cdade33",
   "metadata": {},
   "outputs": [],
   "source": [
    "## We use the DecisionTreeRegressor in this part"
   ]
  },
  {
   "cell_type": "code",
   "execution_count": null,
   "id": "3bef677c-006f-4ece-83c0-bee9d8e81565",
   "metadata": {},
   "outputs": [],
   "source": [
    "from pyspark.ml.regression import DecisionTreeRegressor"
   ]
  },
  {
   "cell_type": "code",
   "execution_count": null,
   "id": "b43be97c-3ed7-458c-b85c-5e3dcc09d23c",
   "metadata": {},
   "outputs": [],
   "source": [
    "dt = DecisionTreeRegressor(labelCol= IsClick )\n",
    "vecAssembler = VectorAssembler(inputCols=['CategoryID','Price','IsContext',\n",
    "'HistCTR','ObjectType','IsUserLoggedOn','userdeviceid'],outputCol='features',handleInvalid = 'skip')\n",
    "\n",
    "dt.setMaxBins(40)\n",
    "stages = [vecAssembler, dt]\n",
    "pipeline = Pipeline(stages=stages)\n",
    "pipelineModel = pipeline.fit(trainDF)\n",
    "dtModel = pipelineModel.stages[-1]\n",
    "import pandas as pd\n",
    "featureImp = pd.DataFrame(\n",
    "list(zip(vecAssembler.getInputCols(), dtModel.featureImportances)),columns=\n",
    "[\"feature\", \"importance\"])\n",
    "featureImp.sort_values(by=\"importance\", ascending=False)"
   ]
  },
  {
   "cell_type": "code",
   "execution_count": null,
   "id": "beee0b0e-8f6b-4278-b34e-c250f38d568c",
   "metadata": {},
   "outputs": [],
   "source": []
  }
 ],
 "metadata": {
  "kernelspec": {
   "display_name": "Python 3",
   "language": "python",
   "name": "python3"
  },
  "language_info": {
   "codemirror_mode": {
    "name": "ipython",
    "version": 3
   },
   "file_extension": ".py",
   "mimetype": "text/x-python",
   "name": "python",
   "nbconvert_exporter": "python",
   "pygments_lexer": "ipython3",
   "version": "3.7.10"
  }
 },
 "nbformat": 4,
 "nbformat_minor": 5
}
